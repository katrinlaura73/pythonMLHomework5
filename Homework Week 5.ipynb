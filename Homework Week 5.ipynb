{
 "cells": [
  {
   "cell_type": "markdown",
   "id": "efc30ec8",
   "metadata": {},
   "source": [
    "# Homework ML Zoomcamp Week 5"
   ]
  },
  {
   "cell_type": "markdown",
   "id": "35cd58f6",
   "metadata": {},
   "source": [
    "## Data\n",
    "\n",
    "In this homework, we will use Credit Card Data from the previous homework.\n",
    "\n",
    "http://localhost:8888/edit/MLZoomCamp/AER_credit_card_data.csv"
   ]
  },
  {
   "cell_type": "markdown",
   "id": "28dc780d",
   "metadata": {},
   "source": [
    "## Modules"
   ]
  },
  {
   "cell_type": "code",
   "execution_count": 67,
   "id": "29aade8c",
   "metadata": {},
   "outputs": [],
   "source": [
    "# Import modules\n",
    "import wget\n",
    "\n",
    "import pickle\n",
    "\n",
    "#from flask import Flask\n",
    "#from flask import request\n",
    "#from flask import jsonify\n",
    "\n",
    "import requests"
   ]
  },
  {
   "cell_type": "markdown",
   "id": "affb39b6",
   "metadata": {},
   "source": [
    "## Question 1\n",
    "\n",
    "Install Pipenv\n",
    "\n",
    "What's the version of pipenv you installed?\n",
    "\n",
    "Use --version to find out"
   ]
  },
  {
   "cell_type": "markdown",
   "id": "5b7b4340",
   "metadata": {},
   "source": [
    "### Answer Question 1:\n",
    "\n",
    "C:\\Users\\loren>pipenv --version\n",
    "\n",
    "\n",
    "pipenv, version 2022.10.4"
   ]
  },
  {
   "cell_type": "markdown",
   "id": "43fa9283",
   "metadata": {},
   "source": [
    "## Question 2\n",
    "\n",
    "Use Pipenv to install Scikit-Learn version 1.0.2\n",
    "\n",
    "What's the first hash for scikit-learn you get in Pipfile.lock?"
   ]
  },
  {
   "cell_type": "markdown",
   "id": "e2279dd4",
   "metadata": {},
   "source": [
    "### Answer Question 2:\n",
    "\n",
    "\"scikit-learn\": {\n",
    "            \"hashes\": [\n",
    "                \"sha256:08ef968f6b72033c16c479c966bf37ccd49b06ea91b765e1cc27afefe723920b\","
   ]
  },
  {
   "cell_type": "markdown",
   "id": "fbb80f78",
   "metadata": {},
   "source": [
    "## Models\n",
    "\n",
    "We've prepared a dictionary vectorizer and a model.\n",
    "\n",
    "features = ['reports', 'share', 'expenditure', 'owner']\n",
    "\n",
    "dicts = df[features].to_dict(orient='records')\n",
    "\n",
    "\n",
    "dv = DictVectorizer(sparse=False)\n",
    "\n",
    "X = dv.fit_transform(dicts)\n",
    "\n",
    "\n",
    "model = LogisticRegression(solver='liblinear').fit(X, y)\n",
    "\n",
    "\n",
    "And then saved with Pickle. Download them:\n",
    "\n",
    "PREFIX=https://raw.githubusercontent.com/alexeygrigorev/mlbookcamp-code/master/course-zoomcamp/cohorts/2022/05-deployment/homework\n",
    "wget $PREFIX/model1.bin\n",
    "wget $PREFIX/dv.bin"
   ]
  },
  {
   "cell_type": "code",
   "execution_count": 68,
   "id": "309fc91c",
   "metadata": {},
   "outputs": [],
   "source": [
    "# Use wget\n",
    "#PREFIX='https://raw.githubusercontent.com/alexeygrigorev/mlbookcamp-code/master/course-zoomcamp/cohorts/2022/05-deployment/homework'\n",
    "#wget.download(PREFIX+'/model1.bin')\n",
    "#wget.download(PREFIX+'/dv.bin')"
   ]
  },
  {
   "cell_type": "markdown",
   "id": "3e97f131",
   "metadata": {},
   "source": [
    "## Question 3\n",
    "\n",
    "Let's use these models!\n",
    "\n",
    "Write a script for loading these models with pickle\n",
    "\n",
    "Score this client:\n",
    "\n",
    "{\"reports\": 0, \"share\": 0.001694, \"expenditure\": 0.12, \"owner\": \"yes\"}\n",
    "\n",
    "What's the probability that this client will get a credit card?"
   ]
  },
  {
   "cell_type": "code",
   "execution_count": 69,
   "id": "70cc54f0",
   "metadata": {},
   "outputs": [],
   "source": [
    "# Load Dict Vectorizer\n",
    "with open('dv.bin', 'rb') as f_in:  \n",
    "    dict_vectorizer = pickle.load(f_in)\n",
    "f_in.close()\n",
    "\n",
    "# Load model\n",
    "with open('model1.bin', 'rb') as f_in:  ## Note that never open a binary file you do not trust!\n",
    "    model = pickle.load(f_in)\n",
    "f_in.close()\n"
   ]
  },
  {
   "cell_type": "code",
   "execution_count": 70,
   "id": "96ab6a3f",
   "metadata": {},
   "outputs": [
    {
     "data": {
      "text/plain": [
       "'The probability that client will get a credit card is:'"
      ]
     },
     "metadata": {},
     "output_type": "display_data"
    },
    {
     "data": {
      "text/plain": [
       "0.162"
      ]
     },
     "metadata": {},
     "output_type": "display_data"
    }
   ],
   "source": [
    "# Client\n",
    "client = {}\n",
    "\n",
    "client = {\"reports\": 0, \"share\": 0.001694, \"expenditure\": 0.12, \"owner\": \"yes\"}\n",
    "\n",
    "# Transform client\n",
    "X_client = dict_vectorizer.transform(client)\n",
    "\n",
    "# Predict probability\n",
    "y_pred = model.predict_proba(X_client)[0, 1]\n",
    "\n",
    "display('The probability that client will get a credit card is:', round(y_pred, 3))\n"
   ]
  },
  {
   "cell_type": "markdown",
   "id": "bd9f6c39",
   "metadata": {},
   "source": [
    "## Question 4\n",
    "Now let's serve this model as a web service\n",
    "\n",
    "\n",
    "Install Flask and gunicorn (or waitress, if you're on Windows)\n",
    "\n",
    "Write Flask code for serving the model\n",
    "\n",
    "Now score this client using requests:\n",
    "\n",
    "url = \"YOUR_URL\"\n",
    "\n",
    "client = {\"reports\": 0, \"share\": 0.245, \"expenditure\": 3.438, \"owner\": \"yes\"}\n",
    "\n",
    "requests.post(url, json=client).json()\n",
    "\n",
    "What's the probability that this client will get a credit card?"
   ]
  },
  {
   "cell_type": "markdown",
   "id": "04ed30fa",
   "metadata": {},
   "source": [
    "### Answer Question 4:\n",
    "\n",
    "(pythonMLHomework5-7D03WzrC) C:\\Users\\loren\\PycharmProjects\\pythonMLHomework5>python test_predict_card.py\n",
    "\n",
    "{'card_probability': 0.9282218018527452, 'get_card': True}"
   ]
  },
  {
   "cell_type": "markdown",
   "id": "d6341191",
   "metadata": {},
   "source": [
    "## Question 5\n",
    "\n",
    "Download the base image svizor/zoomcamp-model:3.9.12-slim. You can easily make it by using docker pull command.\n",
    "\n",
    "So what's the size of this base image?\n",
    "\n",
    "You can get this information when running docker images - it'll be in the \"SIZE\" column."
   ]
  },
  {
   "cell_type": "markdown",
   "id": "5b4fdfdb",
   "metadata": {},
   "source": [
    "### Answer Question 5\n",
    "\n",
    "vizor/zoomcamp-model:3.9.12-slim\n",
    "IMAGE ID\n",
    "\n",
    "571a6fdc554b\n",
    "\n",
    "CREATED\n",
    "\n",
    "7 days ago\n",
    "\n",
    "SIZE\n",
    "\n",
    "124.69 MB"
   ]
  },
  {
   "cell_type": "markdown",
   "id": "6122dd80",
   "metadata": {},
   "source": [
    "## Dockerfile\n",
    "Now create your own Dockerfile based on the image we prepared.\n",
    "\n",
    "It should start like that:\n",
    "\n",
    "FROM svizor/zoomcamp-model:3.9.12-slim\n",
    "\n",
    "#add your stuff here\n",
    "\n",
    "Now complete it:\n",
    "\n",
    "Install all the dependencies form the Pipenv file\n",
    "\n",
    "Copy your Flask script\n",
    "\n",
    "Run it with Gunicorn\n",
    "\n",
    "After that, you can build your docker image."
   ]
  },
  {
   "cell_type": "markdown",
   "id": "eb47f817",
   "metadata": {},
   "source": [
    "## Question 6\n",
    "\n",
    "Let's run your docker container!\n",
    "\n",
    "After running it, score this client once again:\n",
    "\n",
    "url = \"YOUR_URL\"\n",
    "\n",
    "client = {\"reports\": 0, \"share\": 0.245, \"expenditure\": 3.438, \"owner\": \"yes\"}\n",
    "\n",
    "requests.post(url, json=client).json()\n",
    "\n",
    "What's the probability that this client will get a credit card now?"
   ]
  },
  {
   "cell_type": "markdown",
   "id": "e94990b7",
   "metadata": {},
   "source": [
    "#### Answer Question 6\n",
    "\n",
    "PS C:\\Users\\loren\\PycharmProjects\\pythonMLHomework5> python test_predict_card.py\n",
    "\n",
    "{'card_probability': 0.9282218018527452, 'get_card': True}"
   ]
  },
  {
   "cell_type": "code",
   "execution_count": null,
   "id": "7e01c33d",
   "metadata": {},
   "outputs": [],
   "source": []
  }
 ],
 "metadata": {
  "kernelspec": {
   "display_name": "Python 3 (ipykernel)",
   "language": "python",
   "name": "python3"
  },
  "language_info": {
   "codemirror_mode": {
    "name": "ipython",
    "version": 3
   },
   "file_extension": ".py",
   "mimetype": "text/x-python",
   "name": "python",
   "nbconvert_exporter": "python",
   "pygments_lexer": "ipython3",
   "version": "3.9.7"
  }
 },
 "nbformat": 4,
 "nbformat_minor": 5
}
